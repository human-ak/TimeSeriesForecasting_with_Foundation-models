{
 "cells": [
  {
   "cell_type": "markdown",
   "metadata": {},
   "source": [
    "## Libraries used"
   ]
  },
  {
   "cell_type": "code",
   "execution_count": 1,
   "metadata": {},
   "outputs": [
    {
     "name": "stderr",
     "output_type": "stream",
     "text": [
      "/home/akn/miniconda3/envs/uni/lib/python3.11/site-packages/tqdm/auto.py:21: TqdmWarning: IProgress not found. Please update jupyter and ipywidgets. See https://ipywidgets.readthedocs.io/en/stable/user_install.html\n",
      "  from .autonotebook import tqdm as notebook_tqdm\n"
     ]
    }
   ],
   "source": [
    "import matplotlib.pyplot as plt\n",
    "import pandas as pd\n",
    "import numpy as np\n",
    "import yfinance as yf\n",
    "import torch\n",
    "from sklearn.model_selection import train_test_split\n",
    "\n",
    "from einops import rearrange\n",
    "from gluonts.dataset.multivariate_grouper import MultivariateGrouper\n",
    "from gluonts.dataset.pandas import PandasDataset\n",
    "from gluonts.dataset.split import split\n",
    "#from gluonts.dataset.util import to_pandas\n",
    "\n",
    "from uni2ts.eval_util.plot import plot_single, plot_next_multi\n",
    "from uni2ts.model.moirai import MoiraiForecast, MoiraiModule\n",
    "from uni2ts.model.moirai_moe import MoiraiMoEForecast, MoiraiMoEModule\n",
    "\n",
    "from tqdm import tqdm\n",
    "from datetime import date\n",
    "import re\n",
    "import os\n",
    "import xlsxwriter"
   ]
  },
  {
   "cell_type": "markdown",
   "metadata": {},
   "source": [
    "## Gold data import from yahoo finance"
   ]
  },
  {
   "cell_type": "code",
   "execution_count": 2,
   "metadata": {},
   "outputs": [
    {
     "name": "stdout",
     "output_type": "stream",
     "text": [
      "YF.download() has changed argument auto_adjust default to True\n"
     ]
    },
    {
     "data": {
      "text/html": [
       "<div>\n",
       "<style scoped>\n",
       "    .dataframe tbody tr th:only-of-type {\n",
       "        vertical-align: middle;\n",
       "    }\n",
       "\n",
       "    .dataframe tbody tr th {\n",
       "        vertical-align: top;\n",
       "    }\n",
       "\n",
       "    .dataframe thead th {\n",
       "        text-align: right;\n",
       "    }\n",
       "</style>\n",
       "<table border=\"1\" class=\"dataframe\">\n",
       "  <thead>\n",
       "    <tr style=\"text-align: right;\">\n",
       "      <th></th>\n",
       "      <th>ReportTime</th>\n",
       "      <th>Value</th>\n",
       "      <th>Item_id</th>\n",
       "    </tr>\n",
       "  </thead>\n",
       "  <tbody>\n",
       "    <tr>\n",
       "      <th>0</th>\n",
       "      <td>2001-01-02</td>\n",
       "      <td>268.399994</td>\n",
       "      <td>GC=F</td>\n",
       "    </tr>\n",
       "    <tr>\n",
       "      <th>1</th>\n",
       "      <td>2001-01-03</td>\n",
       "      <td>268.000000</td>\n",
       "      <td>GC=F</td>\n",
       "    </tr>\n",
       "    <tr>\n",
       "      <th>2</th>\n",
       "      <td>2001-01-04</td>\n",
       "      <td>267.299988</td>\n",
       "      <td>GC=F</td>\n",
       "    </tr>\n",
       "    <tr>\n",
       "      <th>3</th>\n",
       "      <td>2001-01-05</td>\n",
       "      <td>268.000000</td>\n",
       "      <td>GC=F</td>\n",
       "    </tr>\n",
       "    <tr>\n",
       "      <th>4</th>\n",
       "      <td>2001-01-08</td>\n",
       "      <td>268.000000</td>\n",
       "      <td>GC=F</td>\n",
       "    </tr>\n",
       "    <tr>\n",
       "      <th>...</th>\n",
       "      <td>...</td>\n",
       "      <td>...</td>\n",
       "      <td>...</td>\n",
       "    </tr>\n",
       "    <tr>\n",
       "      <th>6078</th>\n",
       "      <td>2025-03-25</td>\n",
       "      <td>3023.699951</td>\n",
       "      <td>GC=F</td>\n",
       "    </tr>\n",
       "    <tr>\n",
       "      <th>6079</th>\n",
       "      <td>2025-03-26</td>\n",
       "      <td>3020.899902</td>\n",
       "      <td>GC=F</td>\n",
       "    </tr>\n",
       "    <tr>\n",
       "      <th>6080</th>\n",
       "      <td>2025-03-27</td>\n",
       "      <td>3060.199951</td>\n",
       "      <td>GC=F</td>\n",
       "    </tr>\n",
       "    <tr>\n",
       "      <th>6081</th>\n",
       "      <td>2025-03-28</td>\n",
       "      <td>3086.500000</td>\n",
       "      <td>GC=F</td>\n",
       "    </tr>\n",
       "    <tr>\n",
       "      <th>6082</th>\n",
       "      <td>2025-03-31</td>\n",
       "      <td>3122.800049</td>\n",
       "      <td>GC=F</td>\n",
       "    </tr>\n",
       "  </tbody>\n",
       "</table>\n",
       "<p>6083 rows × 3 columns</p>\n",
       "</div>"
      ],
      "text/plain": [
       "     ReportTime        Value Item_id\n",
       "0    2001-01-02   268.399994    GC=F\n",
       "1    2001-01-03   268.000000    GC=F\n",
       "2    2001-01-04   267.299988    GC=F\n",
       "3    2001-01-05   268.000000    GC=F\n",
       "4    2001-01-08   268.000000    GC=F\n",
       "...         ...          ...     ...\n",
       "6078 2025-03-25  3023.699951    GC=F\n",
       "6079 2025-03-26  3020.899902    GC=F\n",
       "6080 2025-03-27  3060.199951    GC=F\n",
       "6081 2025-03-28  3086.500000    GC=F\n",
       "6082 2025-03-31  3122.800049    GC=F\n",
       "\n",
       "[6083 rows x 3 columns]"
      ]
     },
     "execution_count": 2,
     "metadata": {},
     "output_type": "execute_result"
    }
   ],
   "source": [
    "symbol = 'GC=F'\n",
    "data = yf.download(symbol, \n",
    "                start='2000-12-31', \n",
    "                end='2025-04-01', \n",
    "                progress=False,\n",
    ")\n",
    "df = pd.DataFrame()\n",
    "df['ReportTime'] = data['Close'].reset_index()['Date']\n",
    "df['Value'] = data['Close'].reset_index()[symbol]\n",
    "df['Item_id'] = symbol \n",
    "\n",
    "df"
   ]
  },
  {
   "cell_type": "code",
   "execution_count": 3,
   "metadata": {},
   "outputs": [],
   "source": [
    "def wrangle(data_raw):\n",
    "    data_index = data_raw[\n",
    "                    ['Item_id']\n",
    "                                ].drop_duplicates().reset_index(drop=True)\n",
    "\n",
    "    data_sheet = pd.DataFrame()\n",
    "    \n",
    "    items = {}\n",
    "    for ind in tqdm(data_index.index, desc=\"Data wrangle status\", total=len(data_index.index)):\n",
    "\n",
    "        Item_id = data_index['Item_id'][ind]\n",
    "\n",
    "        df = data_raw.loc[\n",
    "                (data_raw['Item_id'] == Item_id)\n",
    "                ]\n",
    "\n",
    "        data = pd.DataFrame()\n",
    "        data['Report Time'] = df['ReportTime'].astype('datetime64[ns]')\n",
    "        data[\"Value\"] = df[\"Value\"].copy()\n",
    "        data = data.set_index('Report Time')\n",
    "        data = data.resample(\"M\").mean().ffill()\n",
    "        data.reset_index(inplace=True)\n",
    "        data['item_id'] = Item_id\n",
    "        \n",
    "        if (data.tail(1)['Report Time']).dt.month.iloc[0] == int(date.today().strftime(\"%m\")):\n",
    "            data.drop(len(data)-1, inplace=True)\n",
    "\n",
    "        data_sheet = pd.concat([data_sheet, data])\n",
    "\n",
    "    return data_sheet, data_index"
   ]
  },
  {
   "cell_type": "code",
   "execution_count": 4,
   "metadata": {},
   "outputs": [
    {
     "name": "stderr",
     "output_type": "stream",
     "text": [
      "Data wrangle status:   0%|          | 0/1 [00:00<?, ?it/s]/tmp/ipykernel_60671/1761015033.py:21: FutureWarning: 'M' is deprecated and will be removed in a future version, please use 'ME' instead.\n",
      "  data = data.resample(\"M\").mean().ffill()\n",
      "Data wrangle status: 100%|██████████| 1/1 [00:00<00:00, 106.77it/s]\n"
     ]
    },
    {
     "data": {
      "text/html": [
       "<div>\n",
       "<style scoped>\n",
       "    .dataframe tbody tr th:only-of-type {\n",
       "        vertical-align: middle;\n",
       "    }\n",
       "\n",
       "    .dataframe tbody tr th {\n",
       "        vertical-align: top;\n",
       "    }\n",
       "\n",
       "    .dataframe thead th {\n",
       "        text-align: right;\n",
       "    }\n",
       "</style>\n",
       "<table border=\"1\" class=\"dataframe\">\n",
       "  <thead>\n",
       "    <tr style=\"text-align: right;\">\n",
       "      <th></th>\n",
       "      <th>Report Time</th>\n",
       "      <th>Value</th>\n",
       "      <th>item_id</th>\n",
       "    </tr>\n",
       "  </thead>\n",
       "  <tbody>\n",
       "    <tr>\n",
       "      <th>0</th>\n",
       "      <td>2001-01-31</td>\n",
       "      <td>265.371427</td>\n",
       "      <td>GC=F</td>\n",
       "    </tr>\n",
       "    <tr>\n",
       "      <th>1</th>\n",
       "      <td>2001-02-28</td>\n",
       "      <td>261.805263</td>\n",
       "      <td>GC=F</td>\n",
       "    </tr>\n",
       "    <tr>\n",
       "      <th>2</th>\n",
       "      <td>2001-03-31</td>\n",
       "      <td>262.290907</td>\n",
       "      <td>GC=F</td>\n",
       "    </tr>\n",
       "    <tr>\n",
       "      <th>3</th>\n",
       "      <td>2001-04-30</td>\n",
       "      <td>261.079997</td>\n",
       "      <td>GC=F</td>\n",
       "    </tr>\n",
       "    <tr>\n",
       "      <th>4</th>\n",
       "      <td>2001-05-31</td>\n",
       "      <td>272.077272</td>\n",
       "      <td>GC=F</td>\n",
       "    </tr>\n",
       "    <tr>\n",
       "      <th>...</th>\n",
       "      <td>...</td>\n",
       "      <td>...</td>\n",
       "      <td>...</td>\n",
       "    </tr>\n",
       "    <tr>\n",
       "      <th>286</th>\n",
       "      <td>2024-11-30</td>\n",
       "      <td>2649.815015</td>\n",
       "      <td>GC=F</td>\n",
       "    </tr>\n",
       "    <tr>\n",
       "      <th>287</th>\n",
       "      <td>2024-12-31</td>\n",
       "      <td>2643.580950</td>\n",
       "      <td>GC=F</td>\n",
       "    </tr>\n",
       "    <tr>\n",
       "      <th>288</th>\n",
       "      <td>2025-01-31</td>\n",
       "      <td>2722.947626</td>\n",
       "      <td>GC=F</td>\n",
       "    </tr>\n",
       "    <tr>\n",
       "      <th>289</th>\n",
       "      <td>2025-02-28</td>\n",
       "      <td>2897.115800</td>\n",
       "      <td>GC=F</td>\n",
       "    </tr>\n",
       "    <tr>\n",
       "      <th>290</th>\n",
       "      <td>2025-03-31</td>\n",
       "      <td>2986.409528</td>\n",
       "      <td>GC=F</td>\n",
       "    </tr>\n",
       "  </tbody>\n",
       "</table>\n",
       "<p>291 rows × 3 columns</p>\n",
       "</div>"
      ],
      "text/plain": [
       "    Report Time        Value item_id\n",
       "0    2001-01-31   265.371427    GC=F\n",
       "1    2001-02-28   261.805263    GC=F\n",
       "2    2001-03-31   262.290907    GC=F\n",
       "3    2001-04-30   261.079997    GC=F\n",
       "4    2001-05-31   272.077272    GC=F\n",
       "..          ...          ...     ...\n",
       "286  2024-11-30  2649.815015    GC=F\n",
       "287  2024-12-31  2643.580950    GC=F\n",
       "288  2025-01-31  2722.947626    GC=F\n",
       "289  2025-02-28  2897.115800    GC=F\n",
       "290  2025-03-31  2986.409528    GC=F\n",
       "\n",
       "[291 rows x 3 columns]"
      ]
     },
     "execution_count": 4,
     "metadata": {},
     "output_type": "execute_result"
    }
   ],
   "source": [
    "data, data_index = wrangle(df)#.set_index(\"Report Time\")\n",
    "\n",
    "data"
   ]
  },
  {
   "cell_type": "code",
   "execution_count": 5,
   "metadata": {},
   "outputs": [
    {
     "data": {
      "text/html": [
       "<div>\n",
       "<style scoped>\n",
       "    .dataframe tbody tr th:only-of-type {\n",
       "        vertical-align: middle;\n",
       "    }\n",
       "\n",
       "    .dataframe tbody tr th {\n",
       "        vertical-align: top;\n",
       "    }\n",
       "\n",
       "    .dataframe thead th {\n",
       "        text-align: right;\n",
       "    }\n",
       "</style>\n",
       "<table border=\"1\" class=\"dataframe\">\n",
       "  <thead>\n",
       "    <tr style=\"text-align: right;\">\n",
       "      <th></th>\n",
       "      <th>Item_id</th>\n",
       "    </tr>\n",
       "  </thead>\n",
       "  <tbody>\n",
       "    <tr>\n",
       "      <th>0</th>\n",
       "      <td>GC=F</td>\n",
       "    </tr>\n",
       "  </tbody>\n",
       "</table>\n",
       "</div>"
      ],
      "text/plain": [
       "  Item_id\n",
       "0    GC=F"
      ]
     },
     "execution_count": 5,
     "metadata": {},
     "output_type": "execute_result"
    }
   ],
   "source": [
    "data_index"
   ]
  },
  {
   "cell_type": "markdown",
   "metadata": {},
   "source": [
    "## Salesforce - Moirai model"
   ]
  },
  {
   "cell_type": "code",
   "execution_count": 6,
   "metadata": {},
   "outputs": [],
   "source": [
    "TEST = 12\n",
    "PDT = 12 # prediction length: any positive integer\n",
    "CTX = 200  # context length: any positive integer\n",
    "PSZ = \"auto\"  # patch size: choose from {\"auto\", 8, 16, 32, 64, 128}\n",
    "BSZ = 1  # batch size: any positive integer\n",
    "\n",
    "MODEL = \"moirai\"  # model name: choose from {'moirai', 'moirai-moe'}\n",
    "\n",
    "SIZE = \"large\""
   ]
  },
  {
   "cell_type": "code",
   "execution_count": 7,
   "metadata": {},
   "outputs": [],
   "source": [
    "def moirai_BT(ds, test_data):\n",
    "    # Prepare model\n",
    "    if MODEL == \"moirai\":\n",
    "        model = MoiraiForecast(\n",
    "            module=MoiraiModule.from_pretrained(f\"Salesforce/moirai-1.1-R-{SIZE}\"),\n",
    "            prediction_length=PDT,\n",
    "            context_length=CTX,\n",
    "            patch_size=PSZ,\n",
    "            num_samples=100,\n",
    "            target_dim=1,\n",
    "            feat_dynamic_real_dim=ds.num_feat_dynamic_real,\n",
    "            past_feat_dynamic_real_dim=ds.num_past_feat_dynamic_real,\n",
    "        )\n",
    "    elif MODEL == \"moirai-moe\":\n",
    "        model = MoiraiMoEForecast(\n",
    "            module=MoiraiMoEModule.from_pretrained(f\"Salesforce/moirai-moe-1.0-R-{SIZE}\"),\n",
    "            prediction_length=PDT,\n",
    "            context_length=CTX,\n",
    "            patch_size=16,\n",
    "            num_samples=100,\n",
    "            target_dim=1,\n",
    "            feat_dynamic_real_dim=ds.num_feat_dynamic_real,\n",
    "            past_feat_dynamic_real_dim=ds.num_past_feat_dynamic_real,\n",
    "        )\n",
    "\n",
    "    predictor = model.create_predictor(batch_size=BSZ)\n",
    "    forecasts = predictor.predict(test_data.input)\n",
    "\n",
    "    input_it = iter(test_data.input)\n",
    "    label_it = iter(test_data.label)\n",
    "    forecast_it = iter(forecasts)\n",
    "\n",
    "    return forecast_it "
   ]
  },
  {
   "cell_type": "code",
   "execution_count": 8,
   "metadata": {},
   "outputs": [],
   "source": [
    "def process(train_, target=\"Value\", item_id=\"item_id\", timestamp='Report Time', freq='M'): \n",
    "\n",
    "    ds = PandasDataset.from_long_dataframe(train_, target=target, item_id=item_id, timestamp=timestamp, freq=freq)\n",
    "\n",
    "    # Split into train/test set & assign last TEST time steps as test set\n",
    "    train, test_template = split(ds, offset=-TEST)\n",
    "    \n",
    "    # Construct rolling window evaluation\n",
    "    test_data = test_template.generate_instances(\n",
    "    prediction_length=PDT,  # number of time steps for each prediction\n",
    "    windows=TEST // PDT,  # number of windows in rolling window evaluation\n",
    "    distance=PDT,  # number of time steps between each window - distance=PDT for non-overlapping windows\n",
    "    )\n",
    "\n",
    "    forecast_it = moirai_BT(ds, test_data)\n",
    "\n",
    "    return forecast_it"
   ]
  },
  {
   "cell_type": "markdown",
   "metadata": {},
   "source": [
    "## Function definitions for result reporting"
   ]
  },
  {
   "cell_type": "code",
   "execution_count": 9,
   "metadata": {},
   "outputs": [],
   "source": [
    "def mape(predictions):\n",
    "\n",
    "    grouped = predictions.groupby('item_id')['MAPE'].agg([\"mean\", \"std\"])\n",
    "\n",
    "    predictions = predictions.merge(grouped, on='item_id', suffixes=('', '_agg'))\n",
    "\n",
    "    mape_list = grouped['mean'].tolist()\n",
    "    std_list = grouped['std'].tolist()\n",
    "\n",
    "    return predictions, mape_list, std_list"
   ]
  },
  {
   "cell_type": "code",
   "execution_count": 10,
   "metadata": {},
   "outputs": [],
   "source": [
    "def result(forecast_it, train_df):\n",
    "    all_preds = list()\n",
    "    for item in forecast_it:\n",
    "        \n",
    "        family = item.item_id\n",
    "        p = item.samples.mean(axis=0)\n",
    "        p10 = np.percentile(item.samples, 10, axis=0)\n",
    "        p90 = np.percentile(item.samples, 90, axis=0)\n",
    "        dates = pd.date_range(start=item.start_date.to_timestamp(), periods=len(p), freq='ME')\n",
    "        family_pred = pd.DataFrame({'Report Time': dates, 'item_id': family, 'Forecast': p, 'p10': p10, 'p90': p90})\n",
    "        all_preds += [family_pred]\n",
    "\n",
    "    all_preds = pd.concat(all_preds, ignore_index=True)\n",
    "    \n",
    "    all_preds = all_preds.merge(train_df, on=['Report Time', 'item_id'], how='left')\n",
    "\n",
    "    all_preds[\"MAPE\"] = abs( (all_preds['Value'] - all_preds['Forecast']) / all_preds['Value'] ) * 100\n",
    "\n",
    "    result, mape_list, std_list = mape(all_preds)\n",
    "\n",
    "    return result, mape_list, std_list"
   ]
  },
  {
   "cell_type": "code",
   "execution_count": 11,
   "metadata": {},
   "outputs": [],
   "source": [
    "def error_fig(mape_results, mypath):\n",
    "    mean = float(round((mape_results).mean(), 2))\n",
    "    std = float(round(np.std(mape_results), 2))\n",
    "\n",
    "    # Plotting the line plot using matplotlib\n",
    "    plt.figure(figsize=(11.86, 3.6))\n",
    "    plt.plot(mape_results, marker='o')\n",
    "    plt.title(f\"Overall Mean={mean} & std deviation={std} of MAPEs for 2year BT\")\n",
    "    plt.xlabel('Period')\n",
    "    plt.ylabel('MAPE')\n",
    "    plt.grid(True)\n",
    "\n",
    "    # Saving the plot as an image without displaying it\n",
    "    plt.savefig(f\"{mypath}_mape.png\", dpi=200)\n",
    "\n",
    "    return mean, std"
   ]
  },
  {
   "cell_type": "markdown",
   "metadata": {},
   "source": [
    "## Train-test split"
   ]
  },
  {
   "cell_type": "code",
   "execution_count": 12,
   "metadata": {},
   "outputs": [],
   "source": [
    "# Perform train-test split for each item_id\n",
    "train_list = []\n",
    "test_list = []\n",
    "\n",
    "for item_id in data['item_id'].unique():\n",
    "    item_df = data[data['item_id'] == item_id]\n",
    "    train_df, test_df = train_test_split(item_df, test_size=13, shuffle=False)\n",
    "    train_list.append(train_df)\n",
    "    test_list.append(test_df)\n",
    "\n",
    "train_df = pd.concat(train_list)\n",
    "test_df = pd.concat(test_list)"
   ]
  },
  {
   "cell_type": "markdown",
   "metadata": {},
   "source": [
    "## Model Backtesting"
   ]
  },
  {
   "cell_type": "code",
   "execution_count": 13,
   "metadata": {},
   "outputs": [],
   "source": [
    "path = \"/mnt/d/BT/uni2ts/Gold\"\n",
    "\n",
    "workbook = xlsxwriter.Workbook(f\"{path}/Results.xlsx\")\n",
    "workbook.close()\n",
    "\n",
    "unique_dates = test_df['Report Time'].unique()\n",
    "len(unique_dates)\n",
    "\n",
    "Mape_dic= {}\n",
    "Std_dic = {}\n",
    "\n",
    "i=1\n",
    "for date in unique_dates:\n",
    "    \n",
    "    rows_to_append = test_df[test_df['Report Time'] == date]\n",
    "    train_df = pd.concat([train_df, rows_to_append])\n",
    "    test_df = test_df.drop(rows_to_append.index)\n",
    "\n",
    "    forecast_it = process(train_df.copy())\n",
    "    Result, Mape_dic[i], Std_dic[i] = result(forecast_it, train_df.copy())#.set_index('Report Time'))\n",
    "\n",
    "    with pd.ExcelWriter(f\"{path}/Results.xlsx\", mode=\"a\", engine=\"openpyxl\") as writer:\n",
    "        Result.to_excel(writer, sheet_name=f'{i}', index=False)\n",
    "\n",
    "    i+=1"
   ]
  },
  {
   "cell_type": "markdown",
   "metadata": {},
   "source": [
    "## Result in teams of MAPE"
   ]
  },
  {
   "cell_type": "code",
   "execution_count": 14,
   "metadata": {},
   "outputs": [
    {
     "data": {
      "image/png": "[encoded data removed]",
      "text/plain": [
       "<Figure size 1186x360 with 1 Axes>"
      ]
     },
     "metadata": {},
     "output_type": "display_data"
    }
   ],
   "source": [
    "dic = {\n",
    "    'Item':[],\n",
    "    'Avg. MAPE':[],\n",
    "    'Std.Dev. of Avg. MAPE':[],\n",
    "       }\n",
    "BTinfo = pd.DataFrame(dic)\n",
    "\n",
    "mape_df = pd.DataFrame(Mape_dic, index=data['item_id'].unique()).transpose()\n",
    "os.makedirs(f'{path}/mape_images', exist_ok=True)\n",
    "\n",
    "for ind in data_index.index:\n",
    "#for item in data['item_id'].unique():\n",
    "    item = data_index['Item_id'][ind]\n",
    "    mypath = f'{path}/mape_images/{item}'\n",
    "    mean, std = error_fig(mape_df[item], mypath)\n",
    "    \n",
    "    bt_list = []\n",
    "    bt_list.insert(0, data_index['Item_id'][ind])\n",
    "    bt_list.insert(1, mean)\n",
    "    bt_list.insert(2, std)\n",
    "        \n",
    "    BTinfo.loc[ind] = bt_list\n",
    "    \n",
    "BTinfo.to_excel(f'{path}/BTinfo.xlsx', index=False)"
   ]
  },
  {
   "cell_type": "code",
   "execution_count": null,
   "metadata": {},
   "outputs": [],
   "source": []
  }
 ],
 "metadata": {
  "kernelspec": {
   "display_name": "uni",
   "language": "python",
   "name": "python3"
  },
  "language_info": {
   "codemirror_mode": {
    "name": "ipython",
    "version": 3
   },
   "file_extension": ".py",
   "mimetype": "text/x-python",
   "name": "python",
   "nbconvert_exporter": "python",
   "pygments_lexer": "ipython3",
   "version": "3.11.8"
  }
 },
 "nbformat": 4,
 "nbformat_minor": 2
}
